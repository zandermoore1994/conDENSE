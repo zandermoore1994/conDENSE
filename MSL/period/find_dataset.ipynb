{
 "cells": [
  {
   "cell_type": "code",
   "execution_count": 91,
   "metadata": {},
   "outputs": [],
   "source": [
    "import warnings\n",
    "warnings.filterwarnings(\"ignore\")"
   ]
  },
  {
   "cell_type": "code",
   "execution_count": 116,
   "metadata": {},
   "outputs": [],
   "source": [
    "import os\n",
    "import numpy as np\n",
    "from sklearn.decomposition import PCA\n",
    "from scipy import signal\n",
    "import matplotlib.pyplot as plt\n",
    "import pandas as pd"
   ]
  },
  {
   "cell_type": "code",
   "execution_count": 95,
   "metadata": {},
   "outputs": [
    {
     "name": "stdout",
     "output_type": "stream",
     "text": [
      "D-5 2561\n",
      "D-5 2561 482.2670907412574\n",
      "D-3 2880\n",
      "D-3 2880 326.1771089259348\n",
      "D-12 312\n",
      "Skipping D-12\n",
      "S-1 2818\n",
      "S-1 2818 293.5981072994364\n",
      "P-14 2880\n",
      "P-14 2880 24.345363126484123\n",
      "F-8 3342\n",
      "F-8 3342 21.099860249329478\n",
      "T-9 439\n",
      "T-9 439 13.52421058905129\n",
      "R-1 2874\n",
      "R-1 2874 99.9962689628684\n",
      "D-11 2611\n",
      "D-11 2611 208.61537498307507\n",
      "D-7 2583\n",
      "D-7 2583 234.46890306228565\n",
      "D-14 3675\n",
      "D-14 3675 51.37604460535843\n",
      "D-9 2583\n",
      "D-9 2583 88.88751350489605\n",
      "G-7 2446\n",
      "G-7 2446 2.8951093141060027\n",
      "P-1 2872\n",
      "P-1 2872 296.9755021052905\n",
      "M-7 1587\n",
      "M-7 1587 23.574681735010163\n",
      "T-12 1145\n",
      "T-12 1145 16.087769853046787\n",
      "A-1 2880\n",
      "A-1 2880 373.6809850935092\n",
      "M-6 1565\n",
      "M-6 1565 32.591868290024316\n",
      "D-16 1451\n",
      "D-16 1451 114.76774638980224\n",
      "A-8 762\n",
      "A-8 762 -0.2864972079420186\n",
      "E-5 2880\n",
      "E-5 2880 498.50461676354433\n",
      "P-11 3969\n",
      "P-11 3969 45.91413222676527\n",
      "P-7 2853\n",
      "P-7 2853 82.79257262351781\n",
      "A-9 762\n",
      "A-9 762 -0.2816572130385258\n",
      "E-1 2880\n",
      "E-1 2880 515.0238859987488\n",
      "M-1 2209\n",
      "M-1 2209 80.47066258948493\n",
      "A-4 2690\n",
      "A-4 2690 505.650295495964\n",
      "F-1 2869\n",
      "F-1 2869 270.8222690185894\n",
      "T-1 2875\n",
      "T-1 2875 255.325030938198\n",
      "T-4 2272\n",
      "T-4 2272 121.85207042488548\n",
      "M-4 2076\n",
      "M-4 2076 53.911775808623005\n",
      "G-1 2820\n",
      "G-1 2820 452.7572825064744\n",
      "D-13 1490\n",
      "Skipping D-13\n",
      "F-7 2511\n",
      "F-7 2511 18.843538577005667\n",
      "T-8 748\n",
      "T-8 748 63.70897453144314\n",
      "D-2 2880\n",
      "D-2 2880 364.03605394242726\n",
      "P-2 2821\n",
      "P-2 2821 485.06648984367916\n",
      "E-4 2880\n",
      "E-4 2880 672.2608882901588\n",
      "T-13 1145\n",
      "T-13 1145 -0.2506502557793166\n",
      "F-4 2244\n",
      "F-4 2244 26.556887943889823\n",
      "G-2 2478\n",
      "G-2 2478 223.30003784106506\n",
      "A-3 2736\n",
      "A-3 2736 539.8170817154664\n",
      "D-15 2074\n",
      "D-15 2074 66.05520553704493\n",
      "C-2 764\n",
      "C-2 764 20.44227604025417\n",
      "B-1 2435\n",
      "B-1 2435 55.28951814751289\n",
      "A-2 2648\n",
      "A-2 2648 292.0280706650085\n",
      "M-3 2037\n",
      "M-3 2037 62.54572104486841\n",
      "D-8 2602\n",
      "D-8 2602 81.51385358719187\n",
      "D-1 2849\n",
      "D-1 2849 303.9002949475466\n",
      "P-4 2609\n",
      "P-4 2609 268.0024645958297\n",
      "F-5 2598\n",
      "F-5 2598 7.023690718755334\n",
      "E-13 2880\n",
      "E-13 2880 398.28048962502095\n",
      "E-3 2880\n",
      "E-3 2880 299.8850709184385\n",
      "G-6 2881\n",
      "G-6 2881 236.77132005770864\n",
      "M-2 2208\n",
      "M-2 2208 75.1774506746785\n",
      "M-5 2032\n",
      "M-5 2032 72.62662510979476\n",
      "P-3 2855\n",
      "P-3 2855 514.2553684354176\n",
      "P-15 3682\n",
      "P-15 3682 25.04938160304839\n",
      "E-9 2880\n",
      "E-9 2880 302.9641923706657\n",
      "E-10 2880\n",
      "E-10 2880 509.41052799056985\n",
      "A-6 682\n",
      "A-6 682 49.51273168192222\n",
      "F-3 2880\n",
      "F-3 2880 369.0208772945853\n",
      "F-2 2861\n",
      "F-2 2861 112.81239052981053\n",
      "E-2 2880\n",
      "E-2 2880 659.0441561079449\n",
      "G-3 2624\n",
      "G-3 2624 303.51704080269667\n",
      "D-6 2594\n",
      "D-6 2594 201.522956339142\n",
      "T-2 2855\n",
      "T-2 2855 244.8376859495704\n",
      "E-12 2880\n",
      "E-12 2880 527.1047828044517\n",
      "G-4 2551\n",
      "G-4 2551 326.8362883699751\n",
      "E-11 2880\n",
      "E-11 2880 534.3674382885678\n",
      "S-2 926\n",
      "S-2 926 41.336902563493545\n",
      "T-5 2272\n",
      "T-5 2272 23.43407096876144\n",
      "A-7 2879\n",
      "A-7 2879 42.470095750063585\n",
      "A-5 705\n",
      "A-5 705 58.59943975496391\n",
      "T-3 2876\n",
      "T-3 2876 268.45411652782684\n",
      "E-7 2769\n",
      "E-7 2769 337.042676627449\n",
      "E-8 2880\n",
      "E-8 2880 587.6068764698202\n",
      "C-1 2158\n",
      "C-1 2158 37.26709945608104\n",
      "E-6 2880\n",
      "E-6 2880 446.9742700001584\n",
      "P-10 4308\n",
      "P-10 4308 32.166900450564725\n",
      "D-4 2833\n",
      "D-4 2833 310.4232552118661\n"
     ]
    }
   ],
   "source": [
    "all_files =set([f.split('_')[0] for f in os.listdir('all')])\n",
    "max_corrs = []\n",
    "chosen_lags=[]\n",
    "chosen_files = []\n",
    "for file in all_files:\n",
    "    try:\n",
    "        x = np.load(f'all/{file}_train.npy')\n",
    "        array = PCA(1).fit_transform(x)\n",
    "        print(file, len(array))\n",
    "        n = len(array)\n",
    "        corr = signal.correlate(array, array)[n:]\n",
    "        lags = signal.correlation_lags(n, n)[n:]\n",
    "        grads = np.gradient(np.squeeze(corr))\n",
    "        offset = np.where(np.sign(grads[:-1]) != np.sign(grads[1:]))[0][0]\n",
    "        corr = corr[offset:]\n",
    "        lags = lags[offset:]\n",
    "        print(file, len(array), corr.max())\n",
    "        chosen_lags.append(lags[corr.argmax()])\n",
    "        max_corrs.append(corr.max())\n",
    "        chosen_files.append(file)\n",
    "        plt.p\n",
    "    except:\n",
    "        print('Skipping', file)"
   ]
  },
  {
   "cell_type": "code",
   "execution_count": 134,
   "metadata": {},
   "outputs": [
    {
     "data": {
      "text/html": [
       "<div>\n",
       "<style scoped>\n",
       "    .dataframe tbody tr th:only-of-type {\n",
       "        vertical-align: middle;\n",
       "    }\n",
       "\n",
       "    .dataframe tbody tr th {\n",
       "        vertical-align: top;\n",
       "    }\n",
       "\n",
       "    .dataframe thead th {\n",
       "        text-align: right;\n",
       "    }\n",
       "</style>\n",
       "<table border=\"1\" class=\"dataframe\">\n",
       "  <thead>\n",
       "    <tr style=\"text-align: right;\">\n",
       "      <th></th>\n",
       "      <th>x</th>\n",
       "      <th>max</th>\n",
       "    </tr>\n",
       "  </thead>\n",
       "  <tbody>\n",
       "    <tr>\n",
       "      <th>35</th>\n",
       "      <td>E-4</td>\n",
       "      <td>672.260888</td>\n",
       "    </tr>\n",
       "    <tr>\n",
       "      <th>61</th>\n",
       "      <td>E-2</td>\n",
       "      <td>659.044156</td>\n",
       "    </tr>\n",
       "    <tr>\n",
       "      <th>74</th>\n",
       "      <td>E-8</td>\n",
       "      <td>587.606876</td>\n",
       "    </tr>\n",
       "    <tr>\n",
       "      <th>39</th>\n",
       "      <td>A-3</td>\n",
       "      <td>539.817082</td>\n",
       "    </tr>\n",
       "    <tr>\n",
       "      <th>67</th>\n",
       "      <td>E-11</td>\n",
       "      <td>534.367438</td>\n",
       "    </tr>\n",
       "    <tr>\n",
       "      <th>65</th>\n",
       "      <td>E-12</td>\n",
       "      <td>527.104783</td>\n",
       "    </tr>\n",
       "    <tr>\n",
       "      <th>23</th>\n",
       "      <td>E-1</td>\n",
       "      <td>515.023886</td>\n",
       "    </tr>\n",
       "    <tr>\n",
       "      <th>54</th>\n",
       "      <td>P-3</td>\n",
       "      <td>514.255368</td>\n",
       "    </tr>\n",
       "    <tr>\n",
       "      <th>57</th>\n",
       "      <td>E-10</td>\n",
       "      <td>509.410528</td>\n",
       "    </tr>\n",
       "    <tr>\n",
       "      <th>25</th>\n",
       "      <td>A-4</td>\n",
       "      <td>505.650295</td>\n",
       "    </tr>\n",
       "  </tbody>\n",
       "</table>\n",
       "</div>"
      ],
      "text/plain": [
       "       x         max\n",
       "35   E-4  672.260888\n",
       "61   E-2  659.044156\n",
       "74   E-8  587.606876\n",
       "39   A-3  539.817082\n",
       "67  E-11  534.367438\n",
       "65  E-12  527.104783\n",
       "23   E-1  515.023886\n",
       "54   P-3  514.255368\n",
       "57  E-10  509.410528\n",
       "25   A-4  505.650295"
      ]
     },
     "execution_count": 134,
     "metadata": {},
     "output_type": "execute_result"
    }
   ],
   "source": [
    "df = pd.DataFrame({'x': chosen_files, 'max': max_corrs})\n",
    "df.sort_values(\"max\", ascending=False)[:10]"
   ]
  },
  {
   "cell_type": "code",
   "execution_count": 54,
   "metadata": {},
   "outputs": [
    {
     "data": {
      "image/png": "[encoded data removed]",
      "text/plain": [
       "<Figure size 1440x720 with 1 Axes>"
      ]
     },
     "metadata": {
      "needs_background": "light"
     },
     "output_type": "display_data"
    }
   ],
   "source": [
    "plt.figure(figsize=(20,10))\n",
    "plt.bar(chosen_files, max_corrs)\n",
    "plt.xticks(rotation=90)\n",
    "plt.show()"
   ]
  },
  {
   "cell_type": "code",
   "execution_count": 135,
   "metadata": {},
   "outputs": [],
   "source": [
    "array = np.load(f'../../UCR/136_train.npy')\n",
    "\n",
    "x = np.load(f'../../SWaT/swat2_train.npy')\n",
    "array = PCA(1).fit_transform(x)\n",
    "\n",
    "x = np.load(f'all/A-3_train.npy')\n",
    "transformer = PCA(1).fit(x)\n",
    "array = PCA(1).fit_transform(x)\n",
    "\n",
    "# x = np.load(f'all/P-2_test.npy')\n",
    "# array = transformer.transform(x)\n",
    "\n",
    "n = len(array)\n",
    "corr = signal.correlate(array, array)[n:]\n",
    "lags = signal.correlation_lags(n, n)[n:]\n",
    "grads = np.gradient(np.squeeze(corr))\n",
    "offset = np.where(np.sign(grads[:-1]) != np.sign(grads[1:]))[0][0]\n",
    "corr = corr[offset:]\n",
    "lags = lags[offset:]"
   ]
  },
  {
   "cell_type": "code",
   "execution_count": 136,
   "metadata": {},
   "outputs": [
    {
     "data": {
      "text/plain": [
       "539.817081715449"
      ]
     },
     "execution_count": 136,
     "metadata": {},
     "output_type": "execute_result"
    }
   ],
   "source": [
    "corr.max()"
   ]
  },
  {
   "cell_type": "code",
   "execution_count": 137,
   "metadata": {},
   "outputs": [
    {
     "data": {
      "text/plain": [
       "539.817081715449"
      ]
     },
     "execution_count": 137,
     "metadata": {},
     "output_type": "execute_result"
    }
   ],
   "source": [
    "corr.max()"
   ]
  },
  {
   "cell_type": "code",
   "execution_count": 138,
   "metadata": {},
   "outputs": [
    {
     "data": {
      "text/plain": [
       "[<matplotlib.lines.Line2D at 0x2a389cd90>]"
      ]
     },
     "execution_count": 138,
     "metadata": {},
     "output_type": "execute_result"
    },
    {
     "data": {
      "image/png": "[encoded data removed]",
      "text/plain": [
       "<Figure size 432x288 with 1 Axes>"
      ]
     },
     "metadata": {
      "needs_background": "light"
     },
     "output_type": "display_data"
    }
   ],
   "source": [
    "plt.plot(array)"
   ]
  },
  {
   "cell_type": "code",
   "execution_count": 58,
   "metadata": {},
   "outputs": [],
   "source": [
    "x = np.load(f'all/E-4_train.npy')\n",
    "array = PCA(1).fit_transform(x)\n",
    "\n",
    "n = len(array)\n",
    "corr = signal.correlate(array, array)[n:]\n",
    "lags = signal.correlation_lags(n, n)[n:]\n",
    "grads = np.gradient(np.squeeze(corr))\n",
    "offset = np.where(np.sign(grads[:-1]) != np.sign(grads[1:]))[0][0]\n",
    "corr = corr[offset:]\n",
    "lags = lags[offset:]"
   ]
  },
  {
   "cell_type": "code",
   "execution_count": 60,
   "metadata": {},
   "outputs": [
    {
     "data": {
      "text/plain": [
       "2"
      ]
     },
     "execution_count": 60,
     "metadata": {},
     "output_type": "execute_result"
    }
   ],
   "source": [
    "lags[corr.argmax()]"
   ]
  },
  {
   "cell_type": "code",
   "execution_count": 59,
   "metadata": {},
   "outputs": [
    {
     "data": {
      "text/plain": [
       "1"
      ]
     },
     "execution_count": 59,
     "metadata": {},
     "output_type": "execute_result"
    }
   ],
   "source": [
    "corr.argmax()"
   ]
  },
  {
   "cell_type": "code",
   "execution_count": 56,
   "metadata": {},
   "outputs": [
    {
     "data": {
      "image/png": "[encoded data removed]",
      "text/plain": [
       "<Figure size 432x288 with 1 Axes>"
      ]
     },
     "metadata": {
      "needs_background": "light"
     },
     "output_type": "display_data"
    }
   ],
   "source": [
    "plt.plot(x)\n",
    "plt.show()\n"
   ]
  },
  {
   "cell_type": "code",
   "execution_count": 57,
   "metadata": {},
   "outputs": [
    {
     "data": {
      "text/plain": [
       "[<matplotlib.lines.Line2D at 0x2a055c370>]"
      ]
     },
     "execution_count": 57,
     "metadata": {},
     "output_type": "execute_result"
    },
    {
     "data": {
      "image/png": "[encoded data removed]",
      "text/plain": [
       "<Figure size 432x288 with 1 Axes>"
      ]
     },
     "metadata": {
      "needs_background": "light"
     },
     "output_type": "display_data"
    }
   ],
   "source": [
    "plt.plot(array)"
   ]
  },
  {
   "cell_type": "code",
   "execution_count": 61,
   "metadata": {},
   "outputs": [],
   "source": [
    "x = np.load(f'all/E-4_test.npy')\n",
    "array = PCA(1).fit_transform(x)"
   ]
  },
  {
   "cell_type": "code",
   "execution_count": 63,
   "metadata": {},
   "outputs": [
    {
     "data": {
      "image/png": "[encoded data removed]",
      "text/plain": [
       "<Figure size 432x288 with 1 Axes>"
      ]
     },
     "metadata": {
      "needs_background": "light"
     },
     "output_type": "display_data"
    }
   ],
   "source": [
    "plt.plot(x)\n",
    "plt.show()"
   ]
  },
  {
   "cell_type": "code",
   "execution_count": 153,
   "metadata": {},
   "outputs": [],
   "source": [
    "x = np.load('../../SMD/machine-3-2_train.npy')\n",
    "\n",
    "array = PCA(1).fit_transform(x)\n",
    "\n",
    "n = len(array)\n",
    "corr = signal.correlate(array, array)[n:]\n",
    "lags = signal.correlation_lags(n, n)[n:]\n",
    "grads = np.gradient(np.squeeze(corr))\n",
    "offset = np.where(np.sign(grads[:-1]) != np.sign(grads[1:]))[0][0]\n",
    "corr = corr[offset:]\n",
    "lags = lags[offset:]\n"
   ]
  },
  {
   "cell_type": "code",
   "execution_count": 152,
   "metadata": {},
   "outputs": [
    {
     "data": {
      "text/plain": [
       "2660.0"
      ]
     },
     "execution_count": 152,
     "metadata": {},
     "output_type": "execute_result"
    }
   ],
   "source": [
    "np.load('../../SMD/machine-1-1_labels.npy').sum()\n"
   ]
  },
  {
   "cell_type": "code",
   "execution_count": 147,
   "metadata": {},
   "outputs": [
    {
     "data": {
      "image/png": "[encoded data removed]",
      "text/plain": [
       "<Figure size 432x288 with 1 Axes>"
      ]
     },
     "metadata": {
      "needs_background": "light"
     },
     "output_type": "display_data"
    }
   ],
   "source": [
    "plt.plot(np.load('../../SMD/machine-3-2_labels.npy'))\n",
    "plt.show()"
   ]
  },
  {
   "cell_type": "code",
   "execution_count": null,
   "metadata": {},
   "outputs": [],
   "source": []
  }
 ],
 "metadata": {
  "kernelspec": {
   "display_name": "Python 3.10.5 ('.venv': poetry)",
   "language": "python",
   "name": "python3"
  },
  "language_info": {
   "codemirror_mode": {
    "name": "ipython",
    "version": 3
   },
   "file_extension": ".py",
   "mimetype": "text/x-python",
   "name": "python",
   "nbconvert_exporter": "python",
   "pygments_lexer": "ipython3",
   "version": "3.10.5"
  },
  "orig_nbformat": 4,
  "vscode": {
   "interpreter": {
    "hash": "d127522fae89b4dc86e3d0f5224dd387b198092fec481987136ad2474803ab4b"
   }
  }
 },
 "nbformat": 4,
 "nbformat_minor": 2
}
