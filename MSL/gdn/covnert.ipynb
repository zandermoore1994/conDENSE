{
 "cells": [
  {
   "cell_type": "code",
   "execution_count": 4,
   "metadata": {},
   "outputs": [],
   "source": [
    "import numpy as np\n",
    "import pandas as pd"
   ]
  },
  {
   "cell_type": "code",
   "execution_count": 11,
   "metadata": {},
   "outputs": [],
   "source": [
    "sensor = \"C-2\"\n",
    "\n",
    "train = pd.DataFrame(np.load(f\"../{sensor}_train.npy\"))\n",
    "test = pd.DataFrame(np.load(f\"../{sensor}_test.npy\"))\n",
    "labels = pd.DataFrame(np.load(f'../{sensor}_labels.npy'))\n",
    "#train = train.reset_index().rename(columns={'index':'timestamp'})\n",
    "train.columns = [str(c) for c in train.columns]\n",
    "#test = test.reset_index().rename(columns={'index':'timestamp'})\n",
    "test.columns = [str(c) for c in test.columns]\n",
    "test['attack'] = labels\n",
    "\n",
    "with open(\"list.txt\", 'w') as f:\n",
    "    f.write(\"\\n\".join(map(str, train.columns)))\n",
    "train.to_csv('train.csv')\n",
    "test.to_csv('test.csv')\n"
   ]
  },
  {
   "cell_type": "code",
   "execution_count": 8,
   "metadata": {},
   "outputs": [
    {
     "data": {
      "text/plain": [
       "135.0"
      ]
     },
     "execution_count": 8,
     "metadata": {},
     "output_type": "execute_result"
    }
   ],
   "source": [
    "test.attack.sum()"
   ]
  },
  {
   "cell_type": "code",
   "execution_count": null,
   "metadata": {},
   "outputs": [],
   "source": [
    "A-4\n",
    "F1 score: 0.029100529100529102 \n",
    "ROC:  0.0\n",
    "precision:  0.006220379146919431\n",
    "recall:  0.38181818181818183"
   ]
  },
  {
   "cell_type": "code",
   "execution_count": null,
   "metadata": {},
   "outputs": [],
   "source": [
    "T-1\n",
    "\n",
    "F1 score: 0.4226579520697168 ROC:  0.0814561518444719\n",
    "precision:  0.2842960288808664\n",
    "recall:  0.8213820078226858"
   ]
  },
  {
   "cell_type": "code",
   "execution_count": 19,
   "metadata": {},
   "outputs": [],
   "source": [
    "tranad = [#T1\n",
    "   {'FN': 1499,\n",
    " 'FP': 107,\n",
    " 'Hit@100%': 1.0,\n",
    " 'Hit@150%': 1.0,\n",
    " 'NDCG@100%': 0.9999999999999999,\n",
    " 'NDCG@150%': 0.9999999999999999,\n",
    " 'ROC/AUC': 0.5038494510599529,\n",
    " 'TN': 6971,\n",
    " 'TP': 35,\n",
    " 'f1': 0.04176455840190136,\n",
    " 'precision': 0.2464788558817707,\n",
    " 'recall': 0.022816166735227076,\n",
    " 'threshold': 0.003654967324310792}\n",
    " # A-4\n",
    " {'FN': 110,\n",
    " 'FP': 0,\n",
    " 'Hit@100%': 1.0,\n",
    " 'Hit@150%': 1.0,\n",
    " 'NDCG@100%': 0.9999999999999999,\n",
    " 'NDCG@150%': 0.9999999999999999,\n",
    " 'ROC/AUC': 0.5,\n",
    " 'TN': 7970,\n",
    " 'TP': 0,\n",
    " 'f1': 0.0,\n",
    " 'precision': 0.0,\n",
    " 'recall': 0.0,\n",
    " 'threshold': 0.29451708720281716},\n",
    " # C-2\n",
    "{'FN': 0,\n",
    " 'FP': 1459,\n",
    " 'Hit@100%': 1.0,\n",
    " 'Hit@150%': 1.0,\n",
    " 'NDCG@100%': 1.0000000000000002,\n",
    " 'NDCG@150%': 1.0000000000000002,\n",
    " 'ROC/AUC': 0.619258872651357,\n",
    " 'TN': 457,\n",
    " 'TP': 135,\n",
    " 'f1': 0.15615818838352424,\n",
    " 'precision': 0.0846925967083275,\n",
    " 'recall': 0.9999999259259313,\n",
    " 'threshold': 0.018905309658115772}\n",
    "\n",
    "]"
   ]
  },
  {
   "cell_type": "code",
   "execution_count": null,
   "metadata": {},
   "outputs": [],
   "source": [
    "tranad = [#T1\n",
    "   {'FN': 1499,\n",
    " 'FP': 107,\n",
    " 'Hit@100%': 1.0,\n",
    " 'Hit@150%': 1.0,\n",
    " 'NDCG@100%': 0.9999999999999999,\n",
    " 'NDCG@150%': 0.9999999999999999,\n",
    " 'ROC/AUC': 0.5038494510599529,\n",
    " 'TN': 6971,\n",
    " 'TP': 35,\n",
    " 'f1': 0.04176455840190136,\n",
    " 'precision': 0.2464788558817707,\n",
    " 'recall': 0.022816166735227076,\n",
    " 'threshold': 0.003654967324310792}\n",
    " # A-4\n",
    " {'FN': 110,\n",
    " 'FP': 0,\n",
    " 'Hit@100%': 1.0,\n",
    " 'Hit@150%': 1.0,\n",
    " 'NDCG@100%': 0.9999999999999999,\n",
    " 'NDCG@150%': 0.9999999999999999,\n",
    " 'ROC/AUC': 0.5,\n",
    " 'TN': 7970,\n",
    " 'TP': 0,\n",
    " 'f1': 0.0,\n",
    " 'precision': 0.0,\n",
    " 'recall': 0.0,\n",
    " 'threshold': 0.29451708720281716},\n",
    " # C-2\n",
    "{'FN': 0,\n",
    " 'FP': 1459,\n",
    " 'Hit@100%': 1.0,\n",
    " 'Hit@150%': 1.0,\n",
    " 'NDCG@100%': 1.0000000000000002,\n",
    " 'NDCG@150%': 1.0000000000000002,\n",
    " 'ROC/AUC': 0.619258872651357,\n",
    " 'TN': 457,\n",
    " 'TP': 135,\n",
    " 'f1': 0.15615818838352424,\n",
    " 'precision': 0.0846925967083275,\n",
    " 'recall': 0.9999999259259313,\n",
    " 'threshold': 0.018905309658115772}\n",
    "\n",
    "]"
   ]
  },
  {
   "cell_type": "code",
   "execution_count": 1,
   "metadata": {},
   "outputs": [],
   "source": [
    "GDN=[{'FN': 0,\n",
    " 'FP': 239,\n",
    " 'Hit@100%': 1.0,\n",
    " 'Hit@150%': 1.0,\n",
    " 'NDCG@100%': 0.9999999999999999,\n",
    " 'NDCG@150%': 0.9999999999999999,\n",
    " 'ROC/AUC': 0.9850062735257215,\n",
    " 'TN': 7731,\n",
    " 'TP': 110,\n",
    " 'f1': 0.47929916701464875,\n",
    " 'precision': 0.31518623738721385,\n",
    " 'recall': 0.9999999090909173,\n",
    " 'threshold': 0.16857370081474382},\n",
    "{'FN': 35,\n",
    " 'FP': 30,\n",
    " 'Hit@100%': 1.0,\n",
    " 'Hit@150%': 1.0,\n",
    " 'NDCG@100%': 1.0000000000000002,\n",
    " 'NDCG@150%': 1.0000000000000002,\n",
    " 'ROC/AUC': 0.8625415603494936,\n",
    " 'TN': 1886,\n",
    " 'TP': 100,\n",
    " 'f1': 0.7547119259854013,\n",
    " 'precision': 0.7692307100591761,\n",
    " 'recall': 0.7407406858710602,\n",
    " 'threshold': 0.03659081507286535},\n",
    "{'FN': 0,\n",
    " 'FP': 285,\n",
    " 'Hit@100%': 1.0,\n",
    " 'Hit@150%': 1.0,\n",
    " 'NDCG@100%': 0.9999999999999999,\n",
    " 'NDCG@150%': 0.9999999999999999,\n",
    " 'ROC/AUC': 0.9798671941226336,\n",
    " 'TN': 6793,\n",
    " 'TP': 1534,\n",
    " 'f1': 0.9149965218947618,\n",
    " 'precision': 0.8433205011362259,\n",
    " 'recall': 0.9999999934810953,\n",
    " 'threshold': 0.03532942504188203} # T1\n",
    "\n",
    "]\n"
   ]
  },
  {
   "cell_type": "code",
   "execution_count": 25,
   "metadata": {},
   "outputs": [],
   "source": [
    "ucr_tranad = [\n",
    "    #135\n",
    "{'FN': 12,\n",
    " 'FP': 17,\n",
    " 'Hit@100%': 1.0,\n",
    " 'Hit@150%': 1.0,\n",
    " 'ROC/AUC': 0.4986484337732549,\n",
    " 'TN': 6272,\n",
    " 'TP': 0,\n",
    " 'f1': 0.0,\n",
    " 'precision': 0.0,\n",
    " 'recall': 0.0,\n",
    " 'threshold': 0.07873525716968056},\n",
    " #136\n",
    " {'FN': 0,\n",
    " 'FP': 11,\n",
    " 'Hit@100%': 1.0,\n",
    " 'Hit@150%': 1.0,\n",
    " 'ROC/AUC': 0.9990499222663672,\n",
    " 'TN': 5778,\n",
    " 'TP': 111,\n",
    " 'f1': 0.9527846289564811,\n",
    " 'precision': 0.9098359909970499,\n",
    " 'recall': 0.999999909909918,\n",
    " 'threshold': 0.03518366777812101},\n",
    " #137\n",
    " {'FN': 102,\n",
    " 'FP': 17,\n",
    " 'Hit@100%': 1.0,\n",
    " 'Hit@150%': 1.0,\n",
    " 'ROC/AUC': 0.4983326794821499,\n",
    " 'TN': 5081,\n",
    " 'TP': 0,\n",
    " 'f1': 0.0,\n",
    " 'precision': 0.0,\n",
    " 'recall': 0.0,\n",
    " 'threshold': 0.03889885710315746},\n",
    " #138\n",
    " {'FN': 10,\n",
    " 'FP': 19,\n",
    " 'Hit@100%': 1.0,\n",
    " 'Hit@150%': 1.0,\n",
    " 'ROC/AUC': 0.49788418708240534,\n",
    " 'TN': 4471,\n",
    " 'TP': 0,\n",
    " 'f1': 0.0,\n",
    " 'precision': 0.0,\n",
    " 'recall': 0.0,\n",
    " 'threshold': 0.03426769650802511}\n",
    "]"
   ]
  },
  {
   "cell_type": "code",
   "execution_count": 5,
   "metadata": {},
   "outputs": [
    {
     "data": {
      "text/plain": [
       "0.9424716759992829"
      ]
     },
     "execution_count": 5,
     "metadata": {},
     "output_type": "execute_result"
    }
   ],
   "source": [
    "np.mean([i['ROC/AUC'] for i in GDN])"
   ]
  },
  {
   "cell_type": "code",
   "execution_count": 6,
   "metadata": {},
   "outputs": [
    {
     "data": {
      "text/plain": [
       "0.7163358716316038"
      ]
     },
     "execution_count": 6,
     "metadata": {},
     "output_type": "execute_result"
    }
   ],
   "source": [
    "np.mean([i['f1'] for i in GDN])"
   ]
  },
  {
   "cell_type": "code",
   "execution_count": 7,
   "metadata": {},
   "outputs": [
    {
     "data": {
      "text/plain": [
       "0.6425791495275386"
      ]
     },
     "execution_count": 7,
     "metadata": {},
     "output_type": "execute_result"
    }
   ],
   "source": [
    "np.mean([i['precision'] for i in GDN])"
   ]
  },
  {
   "cell_type": "code",
   "execution_count": 8,
   "metadata": {},
   "outputs": [
    {
     "data": {
      "text/plain": [
       "0.9135801961476909"
      ]
     },
     "execution_count": 8,
     "metadata": {},
     "output_type": "execute_result"
    }
   ],
   "source": [
    "np.mean([i['recall'] for i in GDN])"
   ]
  },
  {
   "cell_type": "code",
   "execution_count": 26,
   "metadata": {},
   "outputs": [
    {
     "name": "stdout",
     "output_type": "stream",
     "text": [
      "roc 0.6234788056510443 f1 0.23819615723912027 rec 0.2499999774774795 pre 0.22745899774926248\n"
     ]
    }
   ],
   "source": [
    "print(\n",
    "    'roc', np.mean([i['ROC/AUC'] for i in ucr_tranad]),\n",
    "    'f1',np.mean([i['f1'] for i in ucr_tranad]),\n",
    "    'rec',np.mean([i['recall'] for i in ucr_tranad]),\n",
    "    'pre',np.mean([i['precision'] for i in ucr_tranad]),\n",
    ")"
   ]
  },
  {
   "cell_type": "code",
   "execution_count": null,
   "metadata": {},
   "outputs": [],
   "source": [
    "{'FN': 0,\n",
    " 'FP': 30,\n",
    " 'Hit@100%': 1.0,\n",
    " 'Hit@150%': 1.0,\n",
    " 'ROC/AUC': 0.9911032028469751,\n",
    " 'TN': 1656,\n",
    " 'TP': 346,\n",
    " 'f1': 0.9584437355713014,\n",
    " 'precision': 0.9202127414837038,\n",
    " 'recall': 0.9999999710982668,\n",
    " 'threshold': 0.09901684920731296}"
   ]
  },
  {
   "cell_type": "code",
   "execution_count": null,
   "metadata": {},
   "outputs": [],
   "source": []
  },
  {
   "cell_type": "code",
   "execution_count": null,
   "metadata": {},
   "outputs": [],
   "source": []
  },
  {
   "cell_type": "code",
   "execution_count": 27,
   "metadata": {},
   "outputs": [],
   "source": [
    "ucr_tranad =[\n",
    "#135\n",
    "{'FN': 12,\n",
    " 'FP': 12,\n",
    " 'Hit@100%': 1.0,\n",
    " 'Hit@150%': 1.0,\n",
    " 'ROC/AUC': 0.4990459532517093,\n",
    " 'TN': 6277,\n",
    " 'TP': 0,\n",
    " 'f1': 0.0,\n",
    " 'precision': 0.0,\n",
    " 'recall': 0.0,\n",
    " 'threshold': 0.0059018627483046465},\n",
    "#136\n",
    "{'FN': 0,\n",
    " 'FP': 18,\n",
    " 'Hit@100%': 1.0,\n",
    " 'Hit@150%': 1.0,\n",
    " 'ROC/AUC': 0.9984453273449646,\n",
    " 'TN': 5771,\n",
    " 'TP': 111,\n",
    " 'f1': 0.924994951068392,\n",
    " 'precision': 0.8604650495763527,\n",
    " 'recall': 0.999999909909918,\n",
    " 'threshold': 0.006213779923930406},\n",
    "#137\n",
    "{'FN': 10,\n",
    " 'FP': 12,\n",
    " 'Hit@100%': 1.0,\n",
    " 'Hit@150%': 1.0,\n",
    " 'ROC/AUC': 0.49866369710467706,\n",
    " 'TN': 4478,\n",
    " 'TP': 0,\n",
    " 'f1': 0.0,\n",
    " 'precision': 0.0,\n",
    " 'recall': 0.0,\n",
    " 'threshold': 0.00668975196973756},\n",
    "#138\n",
    "{'FN': 10,\n",
    " 'FP': 12,\n",
    " 'Hit@100%': 1.0,\n",
    " 'Hit@150%': 1.0,\n",
    " 'ROC/AUC': 0.49866369710467706,\n",
    " 'TN': 4478,\n",
    " 'TP': 0,\n",
    " 'f1': 0.0,\n",
    " 'precision': 0.0,\n",
    " 'recall': 0.0,\n",
    " 'threshold': 0.006626158654803497}\n",
    "]"
   ]
  },
  {
   "cell_type": "code",
   "execution_count": 9,
   "metadata": {},
   "outputs": [],
   "source": [
    "ucr_gdn =[\n",
    "#135\n",
    "{'FN': 12,\n",
    " 'FP': 44,\n",
    " 'Hit@100%': 1.0,\n",
    " 'Hit@150%': 1.0,\n",
    " 'ROC/AUC': 0.4965018285896009,\n",
    " 'TN': 6245,\n",
    " 'TP': 0,\n",
    " 'f1': 0.0,\n",
    " 'precision': 0.0,\n",
    " 'recall': 0.0,\n",
    " 'threshold': 0.031506877643371234},\n",
    "#136\n",
    "{'FN': 0,\n",
    " 'FP': 58,\n",
    " 'Hit@100%': 1.0,\n",
    " 'Hit@150%': 1.0,\n",
    " 'ROC/AUC': 0.9949904992226637,\n",
    " 'TN': 5731,\n",
    " 'TP': 111,\n",
    " 'f1': 0.7928523007941629,\n",
    " 'precision': 0.6568046948636275,\n",
    " 'recall': 0.999999909909918,\n",
    " 'threshold': 0.007051836406748617},\n",
    "#137\n",
    "{'FN': 0,\n",
    " 'FP': 41,\n",
    " 'Hit@100%': 1.0,\n",
    " 'Hit@150%': 1.0,\n",
    " 'ROC/AUC': 0.9959788152216555,\n",
    " 'TN': 5057,\n",
    " 'TP': 102,\n",
    " 'f1': 0.8326481333061497,\n",
    " 'precision': 0.713286663406527,\n",
    " 'recall': 0.9999999019607939,\n",
    " 'threshold': 0.011567041644160444},\n",
    "#138\n",
    "{'FN': 0,\n",
    " 'FP': 29,\n",
    " 'Hit@100%': 1.0,\n",
    " 'Hit@150%': 1.0,\n",
    " 'ROC/AUC': 0.9967706013363029,\n",
    " 'TN': 4461,\n",
    " 'TP': 10,\n",
    " 'f1': 0.40815985008696865,\n",
    " 'precision': 0.2564101906640536,\n",
    " 'recall': 0.9999990000010001,\n",
    " 'threshold': 0.010854686135008604}\n",
    "]"
   ]
  },
  {
   "cell_type": "code",
   "execution_count": 10,
   "metadata": {},
   "outputs": [
    {
     "name": "stdout",
     "output_type": "stream",
     "text": [
      "roc 0.8710604360925558 f1 0.5084150710468204 rec 0.749999702967928 pre 0.406625387233552\n"
     ]
    }
   ],
   "source": [
    "print(\n",
    "    'roc', np.mean([i['ROC/AUC'] for i in ucr_gdn]),\n",
    "    'f1',np.mean([i['f1'] for i in ucr_gdn]),\n",
    "    'rec',np.mean([i['recall'] for i in ucr_gdn]),\n",
    "    'pre',np.mean([i['precision'] for i in ucr_gdn]),\n",
    ")"
   ]
  },
  {
   "cell_type": "code",
   "execution_count": null,
   "metadata": {},
   "outputs": [],
   "source": []
  }
 ],
 "metadata": {
  "kernelspec": {
   "display_name": "Python 3.10.5 ('.venv': poetry)",
   "language": "python",
   "name": "python3"
  },
  "language_info": {
   "codemirror_mode": {
    "name": "ipython",
    "version": 3
   },
   "file_extension": ".py",
   "mimetype": "text/x-python",
   "name": "python",
   "nbconvert_exporter": "python",
   "pygments_lexer": "ipython3",
   "version": "3.10.5"
  },
  "orig_nbformat": 4,
  "vscode": {
   "interpreter": {
    "hash": "d127522fae89b4dc86e3d0f5224dd387b198092fec481987136ad2474803ab4b"
   }
  }
 },
 "nbformat": 4,
 "nbformat_minor": 2
}
